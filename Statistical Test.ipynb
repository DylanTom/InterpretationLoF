{
 "cells": [
  {
   "cell_type": "code",
   "execution_count": 1,
   "metadata": {},
   "outputs": [],
   "source": [
    "import json\n",
    "import math\n",
    "from statistics import mean\n",
    "from statistics import mode\n",
    "from statistics import stdev\n",
    "import matplotlib.pyplot as plt\n",
    "import numpy as np\n",
    "from scipy.stats import ttest_ind\n",
    "%matplotlib inline"
   ]
  },
  {
   "cell_type": "raw",
   "metadata": {},
   "source": [
    "Null Hypothesis: The frequency of methionine and isoleucine is the same in the first and last bin\n",
    "Alternative Hypothesis: The frequency of methionine and leucine is different in the first and last bin\n",
    "\n",
    "Consider the same question for leucine and methionine\n",
    "alpha = 0.05 for a 95% confidence"
   ]
  },
  {
   "cell_type": "code",
   "execution_count": 2,
   "metadata": {},
   "outputs": [],
   "source": [
    "with open(\"sequences.json\", 'r') as f:\n",
    "    protein_sequence = json.load(f)"
   ]
  },
  {
   "cell_type": "code",
   "execution_count": 3,
   "metadata": {},
   "outputs": [],
   "source": [
    "def AACount(sequence, initial, end, counter, freq_range, aminoAcid):\n",
    "    portion = sequence[initial:end]\n",
    "    count = 0\n",
    "    for x in portion:\n",
    "        if x == aminoAcid:\n",
    "            count += 1\n",
    "    \n",
    "    AACount.freq = count/counter\n",
    "    freq_range.append(AACount.freq)"
   ]
  },
  {
   "cell_type": "code",
   "execution_count": 4,
   "metadata": {},
   "outputs": [],
   "source": [
    "first_met = []\n",
    "last_met = []\n",
    "first_iso = []\n",
    "last_iso = []\n",
    "first_leu = []\n",
    "last_leu = []"
   ]
  },
  {
   "cell_type": "code",
   "execution_count": 5,
   "metadata": {},
   "outputs": [],
   "source": [
    "for x in protein_sequence:\n",
    "    count_M = 0\n",
    "    for i in x:\n",
    "        if i == \"M\":\n",
    "            count_M += 1\n",
    "    count_I = 0\n",
    "    for i in x:\n",
    "        if i == \"I\":\n",
    "            count_I += 1\n",
    "    count_L = 0\n",
    "    for i in x:\n",
    "        if i == \"L\":\n",
    "            count_L += 1\n",
    "    if len(x)>10 and x != 'None' and count_M > 0 and count_I>0 and count_L>0:\n",
    "        sub_seq = math.floor(len(x)/10)\n",
    "        AACount(x, 1, sub_seq, count_M, first_met, \"M\")\n",
    "        AACount(x, (9*sub_seq)+1 , len(x), count_M, last_met, \"M\")\n",
    "        AACount(x, 1, sub_seq, count_I, first_iso, \"I\")\n",
    "        AACount(x, (9*sub_seq)+1 , len(x), count_I, last_iso, \"I\")\n",
    "        AACount(x, 1, sub_seq, count_L, first_leu, \"L\")\n",
    "        AACount(x, (9*sub_seq)+1 , len(x), count_L, last_leu, \"L\")"
   ]
  },
  {
   "cell_type": "code",
   "execution_count": 6,
   "metadata": {},
   "outputs": [],
   "source": [
    "a = np.array(first_met)\n",
    "b = np.array(last_met)\n",
    "c = np.array(first_iso)\n",
    "d = np.array(last_iso)\n",
    "e = np.array(first_leu)\n",
    "f = np.array(last_leu)"
   ]
  },
  {
   "cell_type": "code",
   "execution_count": 7,
   "metadata": {},
   "outputs": [
    {
     "name": "stdout",
     "output_type": "stream",
     "text": [
      "ttest_ind: t = -4.37117  p = 1.23921e-05\n"
     ]
    }
   ],
   "source": [
    "#First Bin - met and iso\n",
    "t, p = ttest_ind(a, c, equal_var=False)\n",
    "print(\"ttest_ind: t = %g  p = %g\" % (t, p))"
   ]
  },
  {
   "cell_type": "code",
   "execution_count": 8,
   "metadata": {},
   "outputs": [
    {
     "name": "stdout",
     "output_type": "stream",
     "text": [
      "ttest_ind: t = -12.5568  p = 4.3226e-36\n"
     ]
    }
   ],
   "source": [
    "#Last Bin - met and iso\n",
    "t, p = ttest_ind(b, d, equal_var=False)\n",
    "print(\"ttest_ind: t = %g  p = %g\" % (t, p))"
   ]
  },
  {
   "cell_type": "code",
   "execution_count": 9,
   "metadata": {},
   "outputs": [
    {
     "name": "stdout",
     "output_type": "stream",
     "text": [
      "ttest_ind: t = -45.4399  p = 0\n"
     ]
    }
   ],
   "source": [
    "#First Bin - met and leu\n",
    "t, p = ttest_ind(a, e, equal_var=False)\n",
    "print(\"ttest_ind: t = %g  p = %g\" % (t, p))"
   ]
  },
  {
   "cell_type": "code",
   "execution_count": 10,
   "metadata": {},
   "outputs": [
    {
     "name": "stdout",
     "output_type": "stream",
     "text": [
      "ttest_ind: t = -9.45621  p = 3.42049e-21\n"
     ]
    }
   ],
   "source": [
    "#Last Bin - met and leu\n",
    "t, p = ttest_ind(b, f, equal_var=False)\n",
    "print(\"ttest_ind: t = %g  p = %g\" % (t, p))"
   ]
  },
  {
   "cell_type": "raw",
   "metadata": {},
   "source": []
  }
 ],
 "metadata": {
  "kernelspec": {
   "display_name": "Python 3",
   "language": "python",
   "name": "python3"
  },
  "language_info": {
   "codemirror_mode": {
    "name": "ipython",
    "version": 3
   },
   "file_extension": ".py",
   "mimetype": "text/x-python",
   "name": "python",
   "nbconvert_exporter": "python",
   "pygments_lexer": "ipython3",
   "version": "3.7.3"
  }
 },
 "nbformat": 4,
 "nbformat_minor": 2
}
