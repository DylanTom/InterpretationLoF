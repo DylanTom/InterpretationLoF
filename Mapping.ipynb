{
 "cells": [
  {
   "cell_type": "code",
   "execution_count": 1,
   "metadata": {},
   "outputs": [],
   "source": [
    "import csv\n",
    "import requests\n",
    "import sys\n",
    "import os\n",
    "import re\n",
    "import time\n",
    "import itertools\n",
    "import json\n",
    "from pandas import DataFrame\n",
    "import pandas as pd\n",
    "import hgvs.parser\n",
    "import hgvs.dataproviders.uta\n",
    "import hgvs.assemblymapper"
   ]
  },
  {
   "cell_type": "code",
   "execution_count": 2,
   "metadata": {},
   "outputs": [],
   "source": [
    "with open('mapRef.tsv', 'r') as mart, open('temp_filtered_mapRef.tsv', 'w', newline='') as filtered:\n",
    "\n",
    "    # define reader and writer objects\n",
    "    reader = csv.reader(mart,delimiter=\"\\t\", skipinitialspace=True)\n",
    "    writer = csv.writer(filtered, delimiter=\"\\t\")\n",
    "\n",
    "    # iterate and write rows based on condition\n",
    "    for i in reader:\n",
    "        if i[0] != 'MT':\n",
    "            writer.writerow(i)"
   ]
  },
  {
   "cell_type": "code",
   "execution_count": 3,
   "metadata": {},
   "outputs": [],
   "source": [
    "with open('temp_filtered_mapRef.tsv', 'r') as mart, open('filtered_mapRef.tsv', 'w', newline='') as filtered:\n",
    "\n",
    "    # define reader and writer objects\n",
    "    reader = csv.reader(mart,delimiter=\"\\t\", skipinitialspace=True)\n",
    "    writer = csv.writer(filtered, delimiter=\"\\t\")\n",
    "\n",
    "    # iterate and write rows based on condition\n",
    "    for i in reader:\n",
    "        if i[0] != 'Y':\n",
    "            writer.writerow(i)"
   ]
  },
  {
   "cell_type": "code",
   "execution_count": 4,
   "metadata": {},
   "outputs": [],
   "source": [
    "tsv_file = open(\"filtered_mapRef.tsv\")\n",
    "mart_tsv = csv.reader(tsv_file, delimiter=\"\\t\", quotechar='\"')\n",
    "df = DataFrame(mart_tsv)"
   ]
  },
  {
   "cell_type": "code",
   "execution_count": 7,
   "metadata": {},
   "outputs": [
    {
     "data": {
      "text/plain": [
       "(93628, 7)"
      ]
     },
     "execution_count": 7,
     "metadata": {},
     "output_type": "execute_result"
    }
   ],
   "source": [
    "df.shape"
   ]
  },
  {
   "cell_type": "code",
   "execution_count": 5,
   "metadata": {},
   "outputs": [],
   "source": [
    "dfRef = df[df[6].astype(bool)]"
   ]
  },
  {
   "cell_type": "code",
   "execution_count": 8,
   "metadata": {},
   "outputs": [
    {
     "data": {
      "text/plain": [
       "(15543, 7)"
      ]
     },
     "execution_count": 8,
     "metadata": {},
     "output_type": "execute_result"
    }
   ],
   "source": [
    "dfRef.shape"
   ]
  },
  {
   "cell_type": "code",
   "execution_count": 6,
   "metadata": {},
   "outputs": [
    {
     "data": {
      "text/html": [
       "<div>\n",
       "<style scoped>\n",
       "    .dataframe tbody tr th:only-of-type {\n",
       "        vertical-align: middle;\n",
       "    }\n",
       "\n",
       "    .dataframe tbody tr th {\n",
       "        vertical-align: top;\n",
       "    }\n",
       "\n",
       "    .dataframe thead th {\n",
       "        text-align: right;\n",
       "    }\n",
       "</style>\n",
       "<table border=\"1\" class=\"dataframe\">\n",
       "  <thead>\n",
       "    <tr style=\"text-align: right;\">\n",
       "      <th></th>\n",
       "      <th>0</th>\n",
       "      <th>1</th>\n",
       "      <th>2</th>\n",
       "      <th>3</th>\n",
       "      <th>4</th>\n",
       "      <th>5</th>\n",
       "      <th>6</th>\n",
       "    </tr>\n",
       "  </thead>\n",
       "  <tbody>\n",
       "    <tr>\n",
       "      <th>0</th>\n",
       "      <td>Chromosome/scaffold name</td>\n",
       "      <td>Gene start (bp)</td>\n",
       "      <td>Gene end (bp)</td>\n",
       "      <td>Gene stable ID</td>\n",
       "      <td>Transcript stable ID</td>\n",
       "      <td>Protein stable ID</td>\n",
       "      <td>RefSeq match transcript</td>\n",
       "    </tr>\n",
       "    <tr>\n",
       "      <th>18</th>\n",
       "      <td>1</td>\n",
       "      <td>944203</td>\n",
       "      <td>959309</td>\n",
       "      <td>ENSG00000188976</td>\n",
       "      <td>ENST00000327044</td>\n",
       "      <td>ENSP00000317992</td>\n",
       "      <td>NM_015658.4</td>\n",
       "    </tr>\n",
       "    <tr>\n",
       "      <th>19</th>\n",
       "      <td>1</td>\n",
       "      <td>960584</td>\n",
       "      <td>965719</td>\n",
       "      <td>ENSG00000187961</td>\n",
       "      <td>ENST00000338591</td>\n",
       "      <td>ENSP00000343930</td>\n",
       "      <td>NM_198317.3</td>\n",
       "    </tr>\n",
       "    <tr>\n",
       "      <th>21</th>\n",
       "      <td>1</td>\n",
       "      <td>966482</td>\n",
       "      <td>975865</td>\n",
       "      <td>ENSG00000187583</td>\n",
       "      <td>ENST00000379410</td>\n",
       "      <td>ENSP00000368720</td>\n",
       "      <td>NM_032129.3</td>\n",
       "    </tr>\n",
       "    <tr>\n",
       "      <th>28</th>\n",
       "      <td>1</td>\n",
       "      <td>998962</td>\n",
       "      <td>1000172</td>\n",
       "      <td>ENSG00000188290</td>\n",
       "      <td>ENST00000304952</td>\n",
       "      <td>ENSP00000304595</td>\n",
       "      <td>NM_021170.4</td>\n",
       "    </tr>\n",
       "  </tbody>\n",
       "</table>\n",
       "</div>"
      ],
      "text/plain": [
       "                           0                1              2                3  \\\n",
       "0   Chromosome/scaffold name  Gene start (bp)  Gene end (bp)   Gene stable ID   \n",
       "18                         1           944203         959309  ENSG00000188976   \n",
       "19                         1           960584         965719  ENSG00000187961   \n",
       "21                         1           966482         975865  ENSG00000187583   \n",
       "28                         1           998962        1000172  ENSG00000188290   \n",
       "\n",
       "                       4                  5                        6  \n",
       "0   Transcript stable ID  Protein stable ID  RefSeq match transcript  \n",
       "18       ENST00000327044    ENSP00000317992              NM_015658.4  \n",
       "19       ENST00000338591    ENSP00000343930              NM_198317.3  \n",
       "21       ENST00000379410    ENSP00000368720              NM_032129.3  \n",
       "28       ENST00000304952    ENSP00000304595              NM_021170.4  "
      ]
     },
     "execution_count": 6,
     "metadata": {},
     "output_type": "execute_result"
    }
   ],
   "source": [
    "dfRef.head()"
   ]
  },
  {
   "cell_type": "code",
   "execution_count": 9,
   "metadata": {},
   "outputs": [],
   "source": [
    "dfClinvar = pd.read_csv('result1.csv', index_col=0)"
   ]
  },
  {
   "cell_type": "code",
   "execution_count": 10,
   "metadata": {},
   "outputs": [],
   "source": [
    "dfClinvar = DataFrame(dfClinvar)"
   ]
  },
  {
   "cell_type": "code",
   "execution_count": 11,
   "metadata": {},
   "outputs": [
    {
     "data": {
      "text/plain": [
       "(31008, 10)"
      ]
     },
     "execution_count": 11,
     "metadata": {},
     "output_type": "execute_result"
    }
   ],
   "source": [
    "dfClinvar.shape"
   ]
  },
  {
   "cell_type": "code",
   "execution_count": 12,
   "metadata": {},
   "outputs": [
    {
     "data": {
      "text/html": [
       "<div>\n",
       "<style scoped>\n",
       "    .dataframe tbody tr th:only-of-type {\n",
       "        vertical-align: middle;\n",
       "    }\n",
       "\n",
       "    .dataframe tbody tr th {\n",
       "        vertical-align: top;\n",
       "    }\n",
       "\n",
       "    .dataframe thead th {\n",
       "        text-align: right;\n",
       "    }\n",
       "</style>\n",
       "<table border=\"1\" class=\"dataframe\">\n",
       "  <thead>\n",
       "    <tr style=\"text-align: right;\">\n",
       "      <th></th>\n",
       "      <th>CHROM</th>\n",
       "      <th>POS</th>\n",
       "      <th>ID</th>\n",
       "      <th>REF</th>\n",
       "      <th>ALT_1</th>\n",
       "      <th>ALT_2</th>\n",
       "      <th>ALT_3</th>\n",
       "      <th>MC</th>\n",
       "      <th>CLNHGVS</th>\n",
       "      <th>CLNSIG</th>\n",
       "    </tr>\n",
       "  </thead>\n",
       "  <tbody>\n",
       "    <tr>\n",
       "      <th>79</th>\n",
       "      <td>1</td>\n",
       "      <td>943995</td>\n",
       "      <td>950448</td>\n",
       "      <td>C</td>\n",
       "      <td>T</td>\n",
       "      <td>NaN</td>\n",
       "      <td>NaN</td>\n",
       "      <td>SO:0001587|nonsense</td>\n",
       "      <td>NC_000001.11:g.943995C&gt;T</td>\n",
       "      <td>Pathogenic</td>\n",
       "    </tr>\n",
       "    <tr>\n",
       "      <th>82</th>\n",
       "      <td>1</td>\n",
       "      <td>944051</td>\n",
       "      <td>961217</td>\n",
       "      <td>T</td>\n",
       "      <td>G</td>\n",
       "      <td>NaN</td>\n",
       "      <td>NaN</td>\n",
       "      <td>SO:0001587|nonsense</td>\n",
       "      <td>NC_000001.11:g.944051T&gt;G</td>\n",
       "      <td>Uncertain_significance</td>\n",
       "    </tr>\n",
       "    <tr>\n",
       "      <th>125</th>\n",
       "      <td>1</td>\n",
       "      <td>1014143</td>\n",
       "      <td>183381</td>\n",
       "      <td>C</td>\n",
       "      <td>T</td>\n",
       "      <td>NaN</td>\n",
       "      <td>NaN</td>\n",
       "      <td>SO:0001587|nonsense</td>\n",
       "      <td>NC_000001.11:g.1014143C&gt;T</td>\n",
       "      <td>Pathogenic</td>\n",
       "    </tr>\n",
       "    <tr>\n",
       "      <th>141</th>\n",
       "      <td>1</td>\n",
       "      <td>1014359</td>\n",
       "      <td>161454</td>\n",
       "      <td>G</td>\n",
       "      <td>T</td>\n",
       "      <td>NaN</td>\n",
       "      <td>NaN</td>\n",
       "      <td>SO:0001587|nonsense</td>\n",
       "      <td>NC_000001.11:g.1014359G&gt;T</td>\n",
       "      <td>Pathogenic</td>\n",
       "    </tr>\n",
       "    <tr>\n",
       "      <th>248</th>\n",
       "      <td>1</td>\n",
       "      <td>1041582</td>\n",
       "      <td>126556</td>\n",
       "      <td>C</td>\n",
       "      <td>T</td>\n",
       "      <td>NaN</td>\n",
       "      <td>NaN</td>\n",
       "      <td>SO:0001587|nonsense</td>\n",
       "      <td>NC_000001.11:g.1041582C&gt;T</td>\n",
       "      <td>Pathogenic</td>\n",
       "    </tr>\n",
       "  </tbody>\n",
       "</table>\n",
       "</div>"
      ],
      "text/plain": [
       "    CHROM      POS      ID REF ALT_1  ALT_2  ALT_3                   MC  \\\n",
       "79      1   943995  950448   C     T    NaN    NaN  SO:0001587|nonsense   \n",
       "82      1   944051  961217   T     G    NaN    NaN  SO:0001587|nonsense   \n",
       "125     1  1014143  183381   C     T    NaN    NaN  SO:0001587|nonsense   \n",
       "141     1  1014359  161454   G     T    NaN    NaN  SO:0001587|nonsense   \n",
       "248     1  1041582  126556   C     T    NaN    NaN  SO:0001587|nonsense   \n",
       "\n",
       "                       CLNHGVS                  CLNSIG  \n",
       "79    NC_000001.11:g.943995C>T              Pathogenic  \n",
       "82    NC_000001.11:g.944051T>G  Uncertain_significance  \n",
       "125  NC_000001.11:g.1014143C>T              Pathogenic  \n",
       "141  NC_000001.11:g.1014359G>T              Pathogenic  \n",
       "248  NC_000001.11:g.1041582C>T              Pathogenic  "
      ]
     },
     "execution_count": 12,
     "metadata": {},
     "output_type": "execute_result"
    }
   ],
   "source": [
    "dfClinvar.head()"
   ]
  },
  {
   "cell_type": "code",
   "execution_count": 13,
   "metadata": {},
   "outputs": [
    {
     "data": {
      "text/plain": [
       "SequenceVariant(ac=NC_000001.11, type=g, posedit=1014359G>T, gene=None)"
      ]
     },
     "execution_count": 13,
     "metadata": {},
     "output_type": "execute_result"
    }
   ],
   "source": [
    "hgvs_g = 'NC_000001.11:g.1014359G>T'\n",
    "hp = hgvs.parser.Parser()\n",
    "var_g = hp.parse_hgvs_variant(hgvs_g)\n",
    "var_g"
   ]
  },
  {
   "cell_type": "code",
   "execution_count": 14,
   "metadata": {},
   "outputs": [],
   "source": [
    "hdp = hgvs.dataproviders.uta.connect()\n",
    "am = hgvs.assemblymapper.AssemblyMapper(hdp,assembly_name = 'GRCh38', alt_aln_method = \"splign\", replace_reference = True)"
   ]
  },
  {
   "cell_type": "code",
   "execution_count": 15,
   "metadata": {},
   "outputs": [
    {
     "data": {
      "text/plain": [
       "['NM_005101.3']"
      ]
     },
     "execution_count": 15,
     "metadata": {},
     "output_type": "execute_result"
    }
   ],
   "source": [
    "transcripts = am.relevant_transcripts(var_g)\n",
    "sorted(transcripts)"
   ]
  },
  {
   "cell_type": "code",
   "execution_count": 16,
   "metadata": {},
   "outputs": [
    {
     "data": {
      "text/plain": [
       "'NM_005101.3:c.379G>T'"
      ]
     },
     "execution_count": 16,
     "metadata": {},
     "output_type": "execute_result"
    }
   ],
   "source": [
    "var_c = am.g_to_c(var_g, transcripts[0])\n",
    "str(var_c)"
   ]
  },
  {
   "cell_type": "code",
   "execution_count": 17,
   "metadata": {},
   "outputs": [
    {
     "data": {
      "text/plain": [
       "'NP_005092.1:p.(Glu127Ter)'"
      ]
     },
     "execution_count": 17,
     "metadata": {},
     "output_type": "execute_result"
    }
   ],
   "source": [
    "var_p = am.c_to_p(var_c)\n",
    "str(var_p)"
   ]
  },
  {
   "cell_type": "code",
   "execution_count": 52,
   "metadata": {},
   "outputs": [],
   "source": [
    "column = ['CHROM', 'POS', 'REF', 'ALT', 'MC', 'CLNSIG', 'NC', 'NM','NP','ENST', 'ProteinSeq', 'Distance', 'Percentage Remaining']\n",
    "dfMap = DataFrame(columns = column)"
   ]
  },
  {
   "cell_type": "code",
   "execution_count": 53,
   "metadata": {},
   "outputs": [],
   "source": [
    "import itertools\n",
    "limit = 5"
   ]
  },
  {
   "cell_type": "code",
   "execution_count": 54,
   "metadata": {},
   "outputs": [],
   "source": [
    "data = []\n",
    "for index, row in itertools.islice(dfClinvar.iterrows(), limit):\n",
    "    values = []\n",
    "    values.append(row[0])\n",
    "    values.append(row[1])\n",
    "    values.append(row[3])\n",
    "    values.append(row[4])\n",
    "    values.append(row[7])\n",
    "    values.append(row[9])\n",
    "    values.append(row[8])\n",
    "    hgvs_g = str(row[8])\n",
    "    hp = hgvs.parser.Parser()\n",
    "    var_g = hp.parse_hgvs_variant(hgvs_g)\n",
    "    transcripts = am.relevant_transcripts(var_g)\n",
    "    var_c = am.g_to_c(var_g, transcripts[0])\n",
    "    values.append(str(var_c))\n",
    "    var_p = am.c_to_p(var_c)\n",
    "    values.append(str(var_p))\n",
    "    time.sleep(3)\n",
    "    \n",
    "    zipped = zip(column, values)\n",
    "    dictionary = dict(zipped)\n",
    "    data.append(dictionary)"
   ]
  },
  {
   "cell_type": "code",
   "execution_count": 55,
   "metadata": {},
   "outputs": [],
   "source": [
    "dfMap = dfMap.append(data,True)\n",
    "dfMap['ENST'] = dfMap['ENST'].fillna('0')"
   ]
  },
  {
   "cell_type": "code",
   "execution_count": 56,
   "metadata": {},
   "outputs": [
    {
     "data": {
      "text/plain": [
       "(5, 13)"
      ]
     },
     "execution_count": 56,
     "metadata": {},
     "output_type": "execute_result"
    }
   ],
   "source": [
    "dfMap.head()\n",
    "dfMap.shape"
   ]
  },
  {
   "cell_type": "code",
   "execution_count": 57,
   "metadata": {},
   "outputs": [
    {
     "name": "stdout",
     "output_type": "stream",
     "text": [
      "its a match\n",
      "Transcript: NM_005101\n",
      "Transcript2: NM_005101\n",
      "0\n",
      "ENST00000649529\n",
      "its a match\n",
      "Transcript: NM_005101\n",
      "Transcript2: NM_005101\n",
      "0\n",
      "ENST00000649529\n",
      "its a match\n",
      "Transcript: NM_198576\n",
      "Transcript2: NM_198576\n",
      "0\n",
      "ENST00000379370\n"
     ]
    }
   ],
   "source": [
    "for index, row in dfMap.iterrows():\n",
    "    NM = row[7].split('.')[0]\n",
    "    Match = \"\"\n",
    "    for x, y in dfRef.iterrows():\n",
    "        Match = y[6].split('.')[0]\n",
    "        if NM == Match:\n",
    "            print(\"its a match\")\n",
    "            print('Transcript: ' + NM)\n",
    "            print('Transcript2: ' + Match)\n",
    "            print(row[9])\n",
    "            print(y[4])\n",
    "            dfMap.loc[index, 'ENST'] = y[4]"
   ]
  },
  {
   "cell_type": "code",
   "execution_count": 58,
   "metadata": {},
   "outputs": [],
   "source": [
    "#Gets a protein sequence in FASTA format given the ensembl transcript ID\n",
    "def get_protein_sequence(canonical_transcript):\n",
    "    server = \"http://grch37.rest.ensembl.org\"\n",
    "    ext = \"/sequence/id/\" + canonical_transcript + \"?content-type=text/x-fasta;type=protein\"\n",
    "    r = requests.get(server + ext, headers={\"Content-Type\": \"text/x-fasta\"})\n",
    "    time.sleep(3)\n",
    "    \n",
    "    if not r.ok:\n",
    "        try:\n",
    "            r.raise_for_status()\n",
    "            return \"error\"\n",
    "        except requests.exceptions.HTTPError: #I should catch the error too or print, to find out which specific genes\n",
    "            pass\n",
    "    seqlist = r.text.split(\"\\n\", 1)\n",
    "    \n",
    "    if len(seqlist) == 2: #A lot of these transcripts are noncoding or introns, don't know why\n",
    "        sequence = seqlist[1]\n",
    "        sequence = sequence.replace(\"\\n\", \"\")\n",
    "        return sequence\n",
    "    #print(\"Sequence found\")\n",
    "\n",
    "#Adapted from https://github.com/xjenny2/phospho-programs/blob/master/ensembl.py"
   ]
  },
  {
   "cell_type": "code",
   "execution_count": 59,
   "metadata": {},
   "outputs": [],
   "source": [
    "for index, row in dfMap.iterrows():\n",
    "    if row[9] != 0:\n",
    "        dfMap.loc[index, 'ProteinSeq'] = get_protein_sequence(row[9])"
   ]
  },
  {
   "cell_type": "code",
   "execution_count": null,
   "metadata": {},
   "outputs": [],
   "source": []
  },
  {
   "cell_type": "code",
   "execution_count": 60,
   "metadata": {},
   "outputs": [],
   "source": [
    "import re"
   ]
  },
  {
   "cell_type": "code",
   "execution_count": 62,
   "metadata": {},
   "outputs": [
    {
     "name": "stdout",
     "output_type": "stream",
     "text": [
      "Q\n",
      "QAPVCGDDGVTYENDCVMGRSGAARGLLLQKVRSGQCQGRDQCPEPCRFNAVCLSRRGRPRCSCDRVTCDGAYRPVCAQDGRTYDSDCWRQQAECRQQRAIPSKHQGPCDQAPSPCLGVQCAFGATCAVKNGQAACECLQACSSLYDPVCGSDGVTYGSACELEATACTLGREIQVARKGPCDRCGQCRFGALCEAETGRCVCPSECVALAQPVCGSDGHTYPSECMLHVHACTHQISLHVASAGPCETCGDAVCAFGAVCSAGQCVCPRCEHPPPGPVCGSDGVTYGSACELREAACLQQTQIEEARAGPCEQAECGSGGSGSGEDGDCEQELCRQRGGIWDEDSEDGPCVCDFSCQSVPGSPVCGSDGVTYSTECELKKARCESQRGLYVAAQGACRGPTFAPLPPVAPLHCAQTPYGCCQDNITAARGVGLAGCPSACQCNPHGSYGGTCDPATGQCSCRPGVGGLRCDRCEPGFWNFRGIVTDGRSGCTPCSCDPQGAVRDDCEQMTGLCSCKPGVAGPKCGQCPDGRALGPAGCEADASAPATCAEMRCEFGARCVEESGSAHCVCPMLTCPEANATKVCGSDGVTYGNECQLKTIACRQGLQISIQSLGPCQEAVAPSTHPTSASVTVTTPGLLLSQALPAPPGALPLAPSSTAHSQTTPPPSSRPRTTASVPRTTVWPVLTVPPTAPSPAPSLVASAFGESGSTDGSSDEELSGDQEASGGGSGGLEPLEGSSVATPGPPVERASCYNSALGCCSDGKTPSLDAEGSNCPATKVFQGVLELEGVEGQELFYTPEMADPKSELFGETARSIESTLDDLFRNSDVKKDFRSVRLRDLGPGKSVRAIVDVHFDPTTAFRAPDVARALLRQIQVSRRRSLGVRRPLQEHVRFMDFDWFPAFITGATSGAIAAGATARATTASRLPSSAVTPRAPHPSHTSQPVAKTTAAPTTRRPPTTAPSRVPGRRPPAPQQPPKPCDSQPCFHGGTCQDWALGGGFTCSCPAGRGGAVCEKVLGAPVPAFEGRSFLAFPTLRAYHTLRLALEFRALEPQGLLLYNGNARGKDFLALALLDGRVQLRFDTGSGPAVLTSAVPVEPGQWHRLELSRHWRRGTLSVDGETPVLGESPSGTDGLNLDTDLFVGGVPEDQAAVALERTFVGAGLRGCIRLLDVNNQRLELGIGPGAATRGSGVGECGDHPCLPNPCHGGAPCQNLEAGRFHCQCPPGRVGPTCADEKSPCQPNPCHGAAPCRVLPEGGAQCECPLGREGTFCQTASGQDGSGPFLADFNGFSHLELRGLHTFARDLGEKMALEVVFLARGPSGLLLYNGQKTDGKGDFVSLALRDRRLEFRYDLGKGAAVIRSREPVTLGAWTRVSLERNGRKGALRVGDGPRVLGESPVPHTVLNLKEPLYVGGAPDFSKLARAAAVSSGFDGAIQLVSLGGRQLLTPEHVLRQVDVTSFAGHPCTRASGHPCLNGASCVPREAAYVCLCPGGFSGPHCEKGLVEKSAGDVDTLAFDGRTFVEYLNAVTESEKALQSNHFELSLRTEATQGLVLWSGKATERADYVALAIVDGHLQLSYNLGSQPVVLRSTVPVNTNRWLRVVAHREQREGSLQVGNEAPVTGSSPLGATQLDTDGALWLGGLPELPVGPALPKAYGTGFVGCLRDVVVGRHPLHLLEDAVTKPELRPCPT\n"
     ]
    }
   ],
   "source": [
    "for index, row in dfMap.iterrows():\n",
    "    Protein_Mutation_Position = int(re.findall(r'\\d+', row[8])[-1])\n",
    "    if row[10] != None:\n",
    "        print(row[10][Protein_Mutation_Position - 1]) #Index and position are difference; Index = Position - 1\n",
    "        s = row[10][Protein_Mutation_Position - 1:-1]\n",
    "        print(s)\n",
    "        distance = 0\n",
    "        retained = 0\n",
    "        for z, item in enumerate(s):\n",
    "            if item == 'M':\n",
    "                distance = z\n",
    "                ran = s[z:-1]\n",
    "                retained = len(ran)/len(row[10])\n",
    "                break\n",
    "        dfMap.loc[index, 'Distance'] = distance\n",
    "        dfMap.loc[index, 'Percentage Remaining'] = retained"
   ]
  },
  {
   "cell_type": "code",
   "execution_count": 63,
   "metadata": {},
   "outputs": [
    {
     "data": {
      "text/html": [
       "<div>\n",
       "<style scoped>\n",
       "    .dataframe tbody tr th:only-of-type {\n",
       "        vertical-align: middle;\n",
       "    }\n",
       "\n",
       "    .dataframe tbody tr th {\n",
       "        vertical-align: top;\n",
       "    }\n",
       "\n",
       "    .dataframe thead th {\n",
       "        text-align: right;\n",
       "    }\n",
       "</style>\n",
       "<table border=\"1\" class=\"dataframe\">\n",
       "  <thead>\n",
       "    <tr style=\"text-align: right;\">\n",
       "      <th></th>\n",
       "      <th>CHROM</th>\n",
       "      <th>POS</th>\n",
       "      <th>REF</th>\n",
       "      <th>ALT</th>\n",
       "      <th>MC</th>\n",
       "      <th>CLNSIG</th>\n",
       "      <th>NC</th>\n",
       "      <th>NM</th>\n",
       "      <th>NP</th>\n",
       "      <th>ENST</th>\n",
       "      <th>ProteinSeq</th>\n",
       "      <th>Distance</th>\n",
       "      <th>Percentage Remaining</th>\n",
       "    </tr>\n",
       "  </thead>\n",
       "  <tbody>\n",
       "    <tr>\n",
       "      <th>0</th>\n",
       "      <td>1</td>\n",
       "      <td>943995</td>\n",
       "      <td>C</td>\n",
       "      <td>T</td>\n",
       "      <td>SO:0001587|nonsense</td>\n",
       "      <td>Pathogenic</td>\n",
       "      <td>NC_000001.11:g.943995C&gt;T</td>\n",
       "      <td>NM_152486.2:c.1888C&gt;T</td>\n",
       "      <td>NP_689699.2:p.(Arg630Ter)</td>\n",
       "      <td>0</td>\n",
       "      <td>None</td>\n",
       "      <td>NaN</td>\n",
       "      <td>NaN</td>\n",
       "    </tr>\n",
       "    <tr>\n",
       "      <th>1</th>\n",
       "      <td>1</td>\n",
       "      <td>944051</td>\n",
       "      <td>T</td>\n",
       "      <td>G</td>\n",
       "      <td>SO:0001587|nonsense</td>\n",
       "      <td>Uncertain_significance</td>\n",
       "      <td>NC_000001.11:g.944051T&gt;G</td>\n",
       "      <td>NM_152486.2:c.1944T&gt;G</td>\n",
       "      <td>NP_689699.2:p.(Tyr648Ter)</td>\n",
       "      <td>0</td>\n",
       "      <td>None</td>\n",
       "      <td>NaN</td>\n",
       "      <td>NaN</td>\n",
       "    </tr>\n",
       "    <tr>\n",
       "      <th>2</th>\n",
       "      <td>1</td>\n",
       "      <td>1014143</td>\n",
       "      <td>C</td>\n",
       "      <td>T</td>\n",
       "      <td>SO:0001587|nonsense</td>\n",
       "      <td>Pathogenic</td>\n",
       "      <td>NC_000001.11:g.1014143C&gt;T</td>\n",
       "      <td>NM_005101.3:c.163C&gt;T</td>\n",
       "      <td>NP_005092.1:p.(Gln55Ter)</td>\n",
       "      <td>ENST00000649529</td>\n",
       "      <td>None</td>\n",
       "      <td>NaN</td>\n",
       "      <td>NaN</td>\n",
       "    </tr>\n",
       "    <tr>\n",
       "      <th>3</th>\n",
       "      <td>1</td>\n",
       "      <td>1014359</td>\n",
       "      <td>G</td>\n",
       "      <td>T</td>\n",
       "      <td>SO:0001587|nonsense</td>\n",
       "      <td>Pathogenic</td>\n",
       "      <td>NC_000001.11:g.1014359G&gt;T</td>\n",
       "      <td>NM_005101.3:c.379G&gt;T</td>\n",
       "      <td>NP_005092.1:p.(Glu127Ter)</td>\n",
       "      <td>ENST00000649529</td>\n",
       "      <td>None</td>\n",
       "      <td>NaN</td>\n",
       "      <td>NaN</td>\n",
       "    </tr>\n",
       "    <tr>\n",
       "      <th>4</th>\n",
       "      <td>1</td>\n",
       "      <td>1041582</td>\n",
       "      <td>C</td>\n",
       "      <td>T</td>\n",
       "      <td>SO:0001587|nonsense</td>\n",
       "      <td>Pathogenic</td>\n",
       "      <td>NC_000001.11:g.1041582C&gt;T</td>\n",
       "      <td>NM_198576.3:c.1057C&gt;T</td>\n",
       "      <td>NP_940978.2:p.(Gln353Ter)</td>\n",
       "      <td>ENST00000379370</td>\n",
       "      <td>MAGRSHPGPLRPLLPLLVVAACVLPGAGGTCPERALERREEEANVV...</td>\n",
       "      <td>17</td>\n",
       "      <td>0.818582</td>\n",
       "    </tr>\n",
       "  </tbody>\n",
       "</table>\n",
       "</div>"
      ],
      "text/plain": [
       "  CHROM      POS REF ALT                   MC                  CLNSIG  \\\n",
       "0     1   943995   C   T  SO:0001587|nonsense              Pathogenic   \n",
       "1     1   944051   T   G  SO:0001587|nonsense  Uncertain_significance   \n",
       "2     1  1014143   C   T  SO:0001587|nonsense              Pathogenic   \n",
       "3     1  1014359   G   T  SO:0001587|nonsense              Pathogenic   \n",
       "4     1  1041582   C   T  SO:0001587|nonsense              Pathogenic   \n",
       "\n",
       "                          NC                     NM  \\\n",
       "0   NC_000001.11:g.943995C>T  NM_152486.2:c.1888C>T   \n",
       "1   NC_000001.11:g.944051T>G  NM_152486.2:c.1944T>G   \n",
       "2  NC_000001.11:g.1014143C>T   NM_005101.3:c.163C>T   \n",
       "3  NC_000001.11:g.1014359G>T   NM_005101.3:c.379G>T   \n",
       "4  NC_000001.11:g.1041582C>T  NM_198576.3:c.1057C>T   \n",
       "\n",
       "                          NP             ENST  \\\n",
       "0  NP_689699.2:p.(Arg630Ter)                0   \n",
       "1  NP_689699.2:p.(Tyr648Ter)                0   \n",
       "2   NP_005092.1:p.(Gln55Ter)  ENST00000649529   \n",
       "3  NP_005092.1:p.(Glu127Ter)  ENST00000649529   \n",
       "4  NP_940978.2:p.(Gln353Ter)  ENST00000379370   \n",
       "\n",
       "                                          ProteinSeq Distance  \\\n",
       "0                                               None      NaN   \n",
       "1                                               None      NaN   \n",
       "2                                               None      NaN   \n",
       "3                                               None      NaN   \n",
       "4  MAGRSHPGPLRPLLPLLVVAACVLPGAGGTCPERALERREEEANVV...       17   \n",
       "\n",
       "  Percentage Remaining  \n",
       "0                  NaN  \n",
       "1                  NaN  \n",
       "2                  NaN  \n",
       "3                  NaN  \n",
       "4             0.818582  "
      ]
     },
     "execution_count": 63,
     "metadata": {},
     "output_type": "execute_result"
    }
   ],
   "source": [
    "dfMap.head()"
   ]
  },
  {
   "cell_type": "code",
   "execution_count": 65,
   "metadata": {},
   "outputs": [],
   "source": [
    "dfMap.to_csv('results.csv')"
   ]
  },
  {
   "cell_type": "code",
   "execution_count": null,
   "metadata": {},
   "outputs": [],
   "source": []
  }
 ],
 "metadata": {
  "kernelspec": {
   "display_name": "Python 3",
   "language": "python",
   "name": "python3"
  },
  "language_info": {
   "codemirror_mode": {
    "name": "ipython",
    "version": 3
   },
   "file_extension": ".py",
   "mimetype": "text/x-python",
   "name": "python",
   "nbconvert_exporter": "python",
   "pygments_lexer": "ipython3",
   "version": "3.7.3"
  }
 },
 "nbformat": 4,
 "nbformat_minor": 2
}
