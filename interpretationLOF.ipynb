{
 "cells": [
  {
   "cell_type": "code",
   "execution_count": 1,
   "metadata": {},
   "outputs": [],
   "source": [
    "#imports all necessary libraries\n",
    "import requests\n",
    "import sys\n",
    "import os\n",
    "import re\n",
    "import allel\n",
    "import math\n",
    "from statistics import mean\n",
    "import matplotlib.pyplot as plt\n",
    "import numpy as np"
   ]
  },
  {
   "cell_type": "code",
   "execution_count": null,
   "metadata": {},
   "outputs": [],
   "source": [
    "with open('clinvar.vcf', mode='r') as vcf:\n",
    "    print(vcf.read())"
   ]
  },
  {
   "cell_type": "code",
   "execution_count": 2,
   "metadata": {},
   "outputs": [],
   "source": [
    "#Gets the gene symbol used to search in gnomad api (clean up what is found in the clinvar file)\n",
    "callset = allel.read_vcf('clinvar.vcf', fields=['variants/GENEINFO']) #Reads the gene info\n",
    "tempGeneName = callset['variants/GENEINFO']\n",
    "tempGeneName2 = []\n",
    "#Removes duplicates\n",
    "for i in tempGeneName: \n",
    "    if i not in tempGeneName2:\n",
    "        tempGeneName2.append(i)\n",
    "\n",
    "#Removes whitespace\n",
    "if '' in tempGeneName2:\n",
    "    tempGeneName2.remove('')\n",
    "\n",
    "#Gene Symbol\n",
    "gene_name = []  \n",
    "for i in tempGeneName2:\n",
    "    colon = i.split(':',1)\n",
    "    gene_name.append(colon[0])"
   ]
  },
  {
   "cell_type": "code",
   "execution_count": 2,
   "metadata": {},
   "outputs": [],
   "source": [
    "#Gets a canonical transcipt id from the gnomad API\n",
    "def get_ensembl_id(gene_symbol):\n",
    "    query = \"\"\"\n",
    "    {\n",
    "        gene(gene_name: \"%s\") {\n",
    "        canonical_transcript_id\n",
    "        }     \n",
    "    }\"\"\" % gene_symbol\n",
    "    res = requests.post('https://gnomad.broadinstitute.org/api', json={'query': query})\n",
    "    if res.ok:\n",
    "        #print(\"Canonical ID retrieved:\" + res.json()['data']['gene']['canonical_transcript_id'])\n",
    "        return res.json()['data']['gene']['canonical_transcript_id']\n",
    "    else:\n",
    "        res.raise_for_status()\n",
    "        return \"error\"\n",
    "#Adapted from https://github.com/xjenny2/phospho-programs/blob/master/gnomad.py"
   ]
  },
  {
   "cell_type": "code",
   "execution_count": 3,
   "metadata": {},
   "outputs": [],
   "source": [
    "#Gets a protein sequence in FASTA format given the ensembl ID\n",
    "def get_protein_sequence(canonical_transcript):\n",
    "    server = \"http://grch37.rest.ensembl.org\"\n",
    "    ext = \"/sequence/id/\" + canonical_transcript + \"?content-type=text/x-fasta;type=protein\"\n",
    "    r = requests.get(server + ext, headers={\"Content-Type\": \"text/x-fasta\"})\n",
    "\n",
    "    if not r.ok:\n",
    "        r.raise_for_status()\n",
    "        sys.exit()\n",
    "        return \"error\"\n",
    "    seqlist = r.text.split(\"\\n\", 1)\n",
    "\n",
    "    sequence = seqlist[1]\n",
    "    sequence = sequence.replace(\"\\n\", \"\")\n",
    "\n",
    "    #print(\"Sequence found\")\n",
    "    return sequence\n",
    "#Adapted from https://github.com/xjenny2/phospho-programs/blob/master/ensembl.py"
   ]
  },
  {
   "cell_type": "code",
   "execution_count": 11,
   "metadata": {},
   "outputs": [
    {
     "name": "stdout",
     "output_type": "stream",
     "text": [
      "['MPMANLLLLIVPILIAMAFLMLTERKILGYMQLRKGPNVVGPYGLLQPFADAMKLFTKEPLKPATSTITLYITAPTLALTIALLLWTPLPMPNPLVNLNLGLLFILATSSLAVYSILWSGWASNSNYALIGALRAVAQTISYEVTLAIILLSTLLMSGSFNLSTLITTQEHLWLLLPSWPLAMMWFISTLAETNRTPFDLAEGESELVSGFNIEYAAGPFALFFMAEYTNIIMMNTLTTTIFLGTTYDALSPELYTTYFVTKTLLLTSLFLWIRTAYPRFRYDQLMHLLWKNFLPLTLALLMWYVSMPITISSIPPQT']\n"
     ]
    }
   ],
   "source": [
    "#x = get_ensembl_id('TFIP11')\n",
    "canonical_id = ['ENST00000361390']\n",
    "#canonical_id.append(x)\n",
    "#print(canonical_id)\n",
    "#for x in gene_name:\n",
    " #   ensembl_id = get_ensembl_id(x)\n",
    "   # canonical_id.append(ensembl_id)\n",
    "\n",
    "protein_sequence = []\n",
    "for x in canonical_id:\n",
    "    protein_seq = get_protein_sequence(x)\n",
    "    protein_sequence.append(protein_seq)\n",
    "    \n",
    "print(protein_sequence)"
   ]
  },
  {
   "cell_type": "code",
   "execution_count": 6,
   "metadata": {},
   "outputs": [],
   "source": [
    "#Calculates the frequency of methionine in the given index range of a sequence\n",
    "def methionineCounter(sequence, initial, end):\n",
    "    portion = sequence[initial:end]\n",
    "    #print(portion)\n",
    "    count = 0\n",
    "    for i in portion:\n",
    "        if i == 'M':\n",
    "            count = count + 1\n",
    "            \n",
    "    methionineCounter.freq = count/len(portion)\n",
    "    #print(freq)"
   ]
  },
  {
   "cell_type": "code",
   "execution_count": 7,
   "metadata": {},
   "outputs": [],
   "source": [
    "#Defines a new array for each range\n",
    "zero_ten =[]\n",
    "ten_twenty =[]\n",
    "twenty_thirty =[]\n",
    "thirty_forty =[]\n",
    "forty_fifty=[]\n",
    "fifty_sixty=[]\n",
    "sixty_seventy=[]\n",
    "seventy_eighty=[]\n",
    "eighty_ninety=[]\n",
    "ninety_hundred =[]"
   ]
  },
  {
   "cell_type": "code",
   "execution_count": 8,
   "metadata": {},
   "outputs": [
    {
     "name": "stdout",
     "output_type": "stream",
     "text": [
      "68\n",
      "1 68 136 204 272 340 408 476 544 612 681\n",
      "74\n",
      "1 74 148 222 296 370 444 518 592 666 749\n",
      "64\n",
      "1 64 128 192 256 320 384 448 512 576 642\n",
      "61\n",
      "1 61 122 183 244 305 366 427 488 549 611\n",
      "16\n",
      "1 16 32 48 64 80 96 112 128 144 165\n",
      "204\n",
      "1 204 408 612 816 1020 1224 1428 1632 1836 2045\n"
     ]
    }
   ],
   "source": [
    "#For each protein sequence, runs the methionineCounter function and appends to the respective array the frequency of methionine\n",
    "for x in protein_sequence:\n",
    "    count = 0\n",
    "    for i in x:\n",
    "        if i == 'M':\n",
    "            count += 1\n",
    "    sub_seq = math.floor(len(x)/10) #is it better to round up or down?\n",
    "    print(sub_seq)\n",
    "    zero = 1\n",
    "    ten = sub_seq\n",
    "    twenty = 2 * sub_seq\n",
    "    thirty = 3 * sub_seq\n",
    "    forty = 4 * sub_seq\n",
    "    fifty = 5 * sub_seq\n",
    "    sixty = 6 * sub_seq\n",
    "    seventy = 7 * sub_seq\n",
    "    eighty = 8 * sub_seq\n",
    "    ninety = 9* sub_seq\n",
    "    hundred = len(x)\n",
    "    methionineCounter(x, zero, ten, count)\n",
    "    zero_ten.append(methionineCounter.freq)\n",
    "    methionineCounter(x, ten, twenty, count)\n",
    "    ten_twenty.append(methionineCounter.freq)\n",
    "    methionineCounter(x, twenty, thirty, count)\n",
    "    twenty_thirty.append(methionineCounter.freq)\n",
    "    methionineCounter(x, thirty, forty, count)\n",
    "    thirty_forty.append(methionineCounter.freq)\n",
    "    methionineCounter(x, forty, fifty, count)\n",
    "    forty_fifty.append(methionineCounter.freq)\n",
    "    methionineCounter(x, fifty, sixty, count)\n",
    "    fifty_sixty.append(methionineCounter.freq)\n",
    "    methionineCounter(x, sixty, seventy, count)\n",
    "    sixty_seventy.append(methionineCounter.freq)\n",
    "    methionineCounter(x, seventy, eighty, count)\n",
    "    seventy_eighty.append(methionineCounter.freq)\n",
    "    methionineCounter(x, eighty, ninety, count)\n",
    "    eighty_ninety.append(methionineCounter.freq)\n",
    "    methionineCounter(x, ninety, hundred, count)\n",
    "    ninety_hundred.append(methionineCounter.freq)\n",
    "    print(zero, ten, twenty, thirty, forty, fifty, sixty, seventy, eighty, ninety, hundred)"
   ]
  },
  {
   "cell_type": "code",
   "execution_count": 9,
   "metadata": {},
   "outputs": [],
   "source": [
    "#Adds to a new dictionary - range and the average frequency of the methionines in all the protein sequences\n",
    "freq_dict = {}\n",
    "freq_dict['zero_ten']=mean(zero_ten)\n",
    "freq_dict['ten_twenty']=mean(ten_twenty)\n",
    "freq_dict['twenty_thirty']=mean(twenty_thirty)\n",
    "freq_dict['thirty_forty']=mean(thirty_forty)\n",
    "freq_dict['forty_fifty']=mean(forty_fifty)\n",
    "freq_dict['fifty_sixty']=mean(fifty_sixty)\n",
    "freq_dict['sixty_seventy']=mean(sixty_seventy)\n",
    "freq_dict['seventy_eighty']=mean(seventy_eighty)\n",
    "freq_dict['eighty_ninety']=mean(eighty_ninety)\n",
    "freq_dict['ninety_hundred']=mean(ninety_hundred)"
   ]
  },
  {
   "cell_type": "code",
   "execution_count": 10,
   "metadata": {},
   "outputs": [
    {
     "data": {
      "image/png": "[encoded data removed]",
      "text/plain": [
       "<Figure size 432x288 with 1 Axes>"
      ]
     },
     "metadata": {
      "needs_background": "light"
     },
     "output_type": "display_data"
    }
   ],
   "source": [
    "#Creates a plot of occurence of methionines in each percentage range of a protein sequence\n",
    "plt.bar(list(freq_dict.keys()), freq_dict.values(), color = 'r')\n",
    "plt.xticks(rotation=45)\n",
    "plt.ylabel('Frequency of Methionine')\n",
    "plt.xlabel('Percentage Range in Protein Sequence')\n",
    "plt.title('Average proportion of methionines in each percentage range of a protein sequence')\n",
    "plt.show()"
   ]
  },
  {
   "cell_type": "code",
   "execution_count": null,
   "metadata": {},
   "outputs": [],
   "source": []
  }
 ],
 "metadata": {
  "kernelspec": {
   "display_name": "Python 3",
   "language": "python",
   "name": "python3"
  },
  "language_info": {
   "codemirror_mode": {
    "name": "ipython",
    "version": 3
   },
   "file_extension": ".py",
   "mimetype": "text/x-python",
   "name": "python",
   "nbconvert_exporter": "python",
   "pygments_lexer": "ipython3",
   "version": "3.7.3"
  }
 },
 "nbformat": 4,
 "nbformat_minor": 2
}
